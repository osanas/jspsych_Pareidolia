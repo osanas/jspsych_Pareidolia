{
 "cells": [
  {
   "cell_type": "code",
   "execution_count": 7,
   "metadata": {},
   "outputs": [
    {
     "name": "stdout",
     "output_type": "stream",
     "text": [
      "Average semantic distance: 4.7683716530855236e-08\n",
      "Entropy of set: 2.321928094887362\n"
     ]
    }
   ],
   "source": [
    "import numpy as np\n",
    "import torch\n",
    "from torchtext.vocab import GloVe\n",
    "\n",
    "def compare_semantic_distance_and_entropy(word_set):\n",
    "    # Load pre-trained GloVe vectors\n",
    "    glove = GloVe(name='6B', dim=300)\n",
    "    # Initialize list to store word vectors\n",
    "    word_vectors = []\n",
    "    # Iterate through word set and add word vectors to list\n",
    "    for word in word_set:\n",
    "        try:\n",
    "            word_vectors.append(glove.vectors[glove.stoi[word]])\n",
    "        except KeyError:\n",
    "            # Skip word if not in pre-trained GloVe vocabulary\n",
    "            pass\n",
    "    # Calculate average semantic distance\n",
    "    word_vectors = torch.stack(word_vectors)\n",
    "    cos = torch.nn.CosineSimilarity(dim=1, eps=1e-6)\n",
    "    semantic_distance = 1 - cos(word_vectors, word_vectors)\n",
    "    semantic_distance = semantic_distance.mean()\n",
    "    \n",
    "    # Calculate entropy\n",
    "    prob = [list(word_set).count(word)/len(word_set) for word in set(word_set)]\n",
    "    entropy = -sum(p*np.log2(p) for p in prob)\n",
    "    # Compare and print results\n",
    "    print(f'Average semantic distance: {semantic_distance}')\n",
    "    print(f'Entropy of set: {entropy}')\n",
    "\n",
    "word_set = {\"tree\", \"mansion\", \"lego\", \"dance\", \"spirit\"}\n",
    "word_set = {\"one\", \"two\", \"three\", \"four\", \"five\"}\n",
    "compare_semantic_distance_and_entropy(word_set)\n"
   ]
  },
  {
   "cell_type": "code",
   "execution_count": 22,
   "metadata": {},
   "outputs": [
    {
     "data": {
      "image/png": "[encoded data removed]",
      "text/plain": [
       "<Figure size 640x480 with 1 Axes>"
      ]
     },
     "metadata": {},
     "output_type": "display_data"
    }
   ],
   "source": [
    "import numpy as np\n",
    "import matplotlib.pyplot as plt\n",
    "from sklearn.manifold import TSNE\n",
    "import torch\n",
    "from torchtext.vocab import GloVe\n",
    "\n",
    "# Function to map words to semantic space\n",
    "def map_words_to_semantic_space(word_dict, scaling_factor=1000):\n",
    "    # Load pre-trained GloVe vectors\n",
    "    glove = GloVe(name='6B', dim=300)\n",
    "    # Initialize list to store word vectors\n",
    "    word_vectors = []\n",
    "    # Initialize list to store labels\n",
    "    labels = []\n",
    "    # Initialize list to store word centralities\n",
    "    word_centralities = []\n",
    "    # Iterate through word dictionary\n",
    "    for author, words in word_dict.items():\n",
    "        for word in words:\n",
    "            try:\n",
    "                # Add word vector and label to lists\n",
    "                word_vectors.append(glove.vectors[glove.stoi[word]])\n",
    "                labels.append(author)\n",
    "            except KeyError:\n",
    "                # Skip word if not in pre-trained GloVe vocabulary\n",
    "                pass\n",
    "    # Calculate word centrality\n",
    "    word_vectors = torch.stack(word_vectors)\n",
    "    cos = torch.nn.CosineSimilarity(dim=1, eps=1e-6)\n",
    "    for i in range(len(word_vectors)):\n",
    "        word_centralities.append(cos(word_vectors[i],word_vectors).mean())\n",
    "    # Map word vectors to 2D space using t-SNE\n",
    "    tsne = TSNE(n_components=2, perplexity=min(5, len(word_vectors)-1))\n",
    "    word_vectors_2d = tsne.fit_transform(word_vectors)\n",
    "    # Create scatter plot\n",
    "    unique_authors = list(set(labels))\n",
    "    markers = ['o', 's', '^', 'd']\n",
    "    for i, author in enumerate(unique_authors):\n",
    "        author_indices = [j for j, label in enumerate(labels) if label == author]\n",
    "        x = [word_vectors_2d[index][0] for index in author_indices]\n",
    "        y = [word_vectors_2d[index][1] for index in author_indices]\n",
    "        s = [word_centralities[index]*scaling_factor for index in author_indices]\n",
    "        plt.scatter(x, y, marker=markers[i % len(markers)], label=author, s=s)\n",
    "    plt.legend()\n",
    "    \n",
    "\n",
    "    plt.show()\n",
    "\n",
    "# Example usage\n",
    "word_dict = {\"Author 1\": [\"tree\", \"mansion\", \"lego\", \"dance\", \"spirit\"],\n",
    "             \"Author 2\": [\"book\", \"library\", \"read\", \"write\", \"bookshelf\"],\n",
    "             \"Author 3\": [\"dog\", \"cat\", \"fish\", \"bird\", \"hamster\"]}\n",
    "map_words_to_semantic_space(word_dict)\n"
   ]
  }
 ],
 "metadata": {
  "kernelspec": {
   "display_name": "biotuner",
   "language": "python",
   "name": "python3"
  },
  "language_info": {
   "codemirror_mode": {
    "name": "ipython",
    "version": 3
   },
   "file_extension": ".py",
   "mimetype": "text/x-python",
   "name": "python",
   "nbconvert_exporter": "python",
   "pygments_lexer": "ipython3",
   "version": "3.8.15 (default, Nov 24 2022, 14:38:14) [MSC v.1916 64 bit (AMD64)]"
  },
  "vscode": {
   "interpreter": {
    "hash": "78920748c27eb6b6a66039cd6eaf38ba7b9251be5db3fee90bd349c5848cd2ed"
   }
  }
 },
 "nbformat": 4,
 "nbformat_minor": 2
}
